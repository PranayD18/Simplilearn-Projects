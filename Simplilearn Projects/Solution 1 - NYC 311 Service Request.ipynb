{
 "cells": [
  {
   "cell_type": "code",
   "execution_count": 64,
   "metadata": {},
   "outputs": [],
   "source": [
    "import pandas as pd\n",
    "import numpy as np\n",
    "import matplotlib.pyplot as plt\n",
    "import seaborn as sns\n",
    "%matplotlib inline\n",
    "import os\n",
    "import calendar\n",
    "import datetime\n",
    "\n",
    "from scipy import stats\n",
    "from scipy.stats import ttest_1samp\n",
    "from scipy.stats import chi2"
   ]
  },
  {
   "cell_type": "markdown",
   "metadata": {},
   "source": [
    "##### Importing Data"
   ]
  },
  {
   "cell_type": "code",
   "execution_count": 2,
   "metadata": {},
   "outputs": [
    {
     "name": "stderr",
     "output_type": "stream",
     "text": [
      "C:\\Users\\user\\Anaconda3\\lib\\site-packages\\IPython\\core\\interactiveshell.py:3058: DtypeWarning: Columns (48,49) have mixed types. Specify dtype option on import or set low_memory=False.\n",
      "  interactivity=interactivity, compiler=compiler, result=result)\n"
     ]
    },
    {
     "data": {
      "text/html": [
       "<div>\n",
       "<style scoped>\n",
       "    .dataframe tbody tr th:only-of-type {\n",
       "        vertical-align: middle;\n",
       "    }\n",
       "\n",
       "    .dataframe tbody tr th {\n",
       "        vertical-align: top;\n",
       "    }\n",
       "\n",
       "    .dataframe thead th {\n",
       "        text-align: right;\n",
       "    }\n",
       "</style>\n",
       "<table border=\"1\" class=\"dataframe\">\n",
       "  <thead>\n",
       "    <tr style=\"text-align: right;\">\n",
       "      <th></th>\n",
       "      <th>Unique Key</th>\n",
       "      <th>Created Date</th>\n",
       "      <th>Closed Date</th>\n",
       "      <th>Agency</th>\n",
       "      <th>Agency Name</th>\n",
       "      <th>Complaint Type</th>\n",
       "      <th>Descriptor</th>\n",
       "      <th>Location Type</th>\n",
       "      <th>Incident Zip</th>\n",
       "      <th>Incident Address</th>\n",
       "      <th>...</th>\n",
       "      <th>Bridge Highway Name</th>\n",
       "      <th>Bridge Highway Direction</th>\n",
       "      <th>Road Ramp</th>\n",
       "      <th>Bridge Highway Segment</th>\n",
       "      <th>Garage Lot Name</th>\n",
       "      <th>Ferry Direction</th>\n",
       "      <th>Ferry Terminal Name</th>\n",
       "      <th>Latitude</th>\n",
       "      <th>Longitude</th>\n",
       "      <th>Location</th>\n",
       "    </tr>\n",
       "  </thead>\n",
       "  <tbody>\n",
       "    <tr>\n",
       "      <td>0</td>\n",
       "      <td>32310363</td>\n",
       "      <td>12/31/2015 11:59:45 PM</td>\n",
       "      <td>01-01-16 0:55</td>\n",
       "      <td>NYPD</td>\n",
       "      <td>New York City Police Department</td>\n",
       "      <td>Noise - Street/Sidewalk</td>\n",
       "      <td>Loud Music/Party</td>\n",
       "      <td>Street/Sidewalk</td>\n",
       "      <td>10034.0</td>\n",
       "      <td>71 VERMILYEA AVENUE</td>\n",
       "      <td>...</td>\n",
       "      <td>NaN</td>\n",
       "      <td>NaN</td>\n",
       "      <td>NaN</td>\n",
       "      <td>NaN</td>\n",
       "      <td>NaN</td>\n",
       "      <td>NaN</td>\n",
       "      <td>NaN</td>\n",
       "      <td>40.865682</td>\n",
       "      <td>-73.923501</td>\n",
       "      <td>(40.86568153633767, -73.92350095571744)</td>\n",
       "    </tr>\n",
       "    <tr>\n",
       "      <td>1</td>\n",
       "      <td>32309934</td>\n",
       "      <td>12/31/2015 11:59:44 PM</td>\n",
       "      <td>01-01-16 1:26</td>\n",
       "      <td>NYPD</td>\n",
       "      <td>New York City Police Department</td>\n",
       "      <td>Blocked Driveway</td>\n",
       "      <td>No Access</td>\n",
       "      <td>Street/Sidewalk</td>\n",
       "      <td>11105.0</td>\n",
       "      <td>27-07 23 AVENUE</td>\n",
       "      <td>...</td>\n",
       "      <td>NaN</td>\n",
       "      <td>NaN</td>\n",
       "      <td>NaN</td>\n",
       "      <td>NaN</td>\n",
       "      <td>NaN</td>\n",
       "      <td>NaN</td>\n",
       "      <td>NaN</td>\n",
       "      <td>40.775945</td>\n",
       "      <td>-73.915094</td>\n",
       "      <td>(40.775945312321085, -73.91509393898605)</td>\n",
       "    </tr>\n",
       "    <tr>\n",
       "      <td>2</td>\n",
       "      <td>32309159</td>\n",
       "      <td>12/31/2015 11:59:29 PM</td>\n",
       "      <td>01-01-16 4:51</td>\n",
       "      <td>NYPD</td>\n",
       "      <td>New York City Police Department</td>\n",
       "      <td>Blocked Driveway</td>\n",
       "      <td>No Access</td>\n",
       "      <td>Street/Sidewalk</td>\n",
       "      <td>10458.0</td>\n",
       "      <td>2897 VALENTINE AVENUE</td>\n",
       "      <td>...</td>\n",
       "      <td>NaN</td>\n",
       "      <td>NaN</td>\n",
       "      <td>NaN</td>\n",
       "      <td>NaN</td>\n",
       "      <td>NaN</td>\n",
       "      <td>NaN</td>\n",
       "      <td>NaN</td>\n",
       "      <td>40.870325</td>\n",
       "      <td>-73.888525</td>\n",
       "      <td>(40.870324522111424, -73.88852464418646)</td>\n",
       "    </tr>\n",
       "  </tbody>\n",
       "</table>\n",
       "<p>3 rows × 53 columns</p>\n",
       "</div>"
      ],
      "text/plain": [
       "   Unique Key            Created Date    Closed Date Agency  \\\n",
       "0    32310363  12/31/2015 11:59:45 PM  01-01-16 0:55   NYPD   \n",
       "1    32309934  12/31/2015 11:59:44 PM  01-01-16 1:26   NYPD   \n",
       "2    32309159  12/31/2015 11:59:29 PM  01-01-16 4:51   NYPD   \n",
       "\n",
       "                       Agency Name           Complaint Type        Descriptor  \\\n",
       "0  New York City Police Department  Noise - Street/Sidewalk  Loud Music/Party   \n",
       "1  New York City Police Department         Blocked Driveway         No Access   \n",
       "2  New York City Police Department         Blocked Driveway         No Access   \n",
       "\n",
       "     Location Type  Incident Zip       Incident Address  ...  \\\n",
       "0  Street/Sidewalk       10034.0    71 VERMILYEA AVENUE  ...   \n",
       "1  Street/Sidewalk       11105.0        27-07 23 AVENUE  ...   \n",
       "2  Street/Sidewalk       10458.0  2897 VALENTINE AVENUE  ...   \n",
       "\n",
       "  Bridge Highway Name Bridge Highway Direction Road Ramp  \\\n",
       "0                 NaN                      NaN       NaN   \n",
       "1                 NaN                      NaN       NaN   \n",
       "2                 NaN                      NaN       NaN   \n",
       "\n",
       "  Bridge Highway Segment Garage Lot Name Ferry Direction Ferry Terminal Name  \\\n",
       "0                    NaN             NaN             NaN                 NaN   \n",
       "1                    NaN             NaN             NaN                 NaN   \n",
       "2                    NaN             NaN             NaN                 NaN   \n",
       "\n",
       "    Latitude  Longitude                                  Location  \n",
       "0  40.865682 -73.923501   (40.86568153633767, -73.92350095571744)  \n",
       "1  40.775945 -73.915094  (40.775945312321085, -73.91509393898605)  \n",
       "2  40.870325 -73.888525  (40.870324522111424, -73.88852464418646)  \n",
       "\n",
       "[3 rows x 53 columns]"
      ]
     },
     "execution_count": 2,
     "metadata": {},
     "output_type": "execute_result"
    }
   ],
   "source": [
    "df_NYC=pd.read_csv('../Project/311_Service_Requests_from_2010_to_Present.csv')\n",
    "df_NYC.head(3)"
   ]
  },
  {
   "cell_type": "code",
   "execution_count": 3,
   "metadata": {},
   "outputs": [],
   "source": [
    "#Converting Created Date and Closed Date Datatype Object to Datetime\n",
    "df_NYC[\"Created Date\"]=pd.to_datetime(df_NYC[\"Created Date\"])\n",
    "df_NYC[\"Closed Date\"]=pd.to_datetime(df_NYC[\"Closed Date\"])"
   ]
  },
  {
   "cell_type": "code",
   "execution_count": 4,
   "metadata": {},
   "outputs": [],
   "source": [
    "df_NYC['Request_Closing_Time'] = (df_NYC['Closed Date'] - df_NYC['Created Date'])"
   ]
  },
  {
   "cell_type": "code",
   "execution_count": 5,
   "metadata": {},
   "outputs": [],
   "source": [
    "df_NYC['Request_Closing_Time'].fillna(value=df_NYC['Request_Closing_Time'].mean(),inplace=True)"
   ]
  },
  {
   "cell_type": "code",
   "execution_count": 9,
   "metadata": {},
   "outputs": [],
   "source": [
    "df_NYC[\"Created Year\"]=df_NYC[\"Created Date\"].dt.year\n",
    "df_NYC[\"Created Month\"]=df_NYC[\"Created Date\"].dt.month\n",
    "df_NYC['Created Month'] = df_NYC['Created Month'].apply(lambda x: calendar.month_abbr[x])\n",
    "df_NYC['Created Month-Year'] = df_NYC['Created Date'].apply(lambda x: datetime.datetime.strftime(x, '%Y-%m'))"
   ]
  },
  {
   "cell_type": "code",
   "execution_count": 7,
   "metadata": {},
   "outputs": [],
   "source": [
    "df_NYC['City'].fillna('Unknown City',inplace=True)\n",
    "df_NYC['Location Type'].fillna('Unknown Location',inplace=True)"
   ]
  },
  {
   "cell_type": "code",
   "execution_count": 8,
   "metadata": {},
   "outputs": [],
   "source": [
    "def camel_case(city):\n",
    "    try:\n",
    "        city = city.split(' ')\n",
    "        city = ' '.join([x.lower().capitalize() for x in city])\n",
    "        if city == 'Unknown City':\n",
    "            return np.nan\n",
    "        else:\n",
    "            return city\n",
    "    except:\n",
    "        return np.nan\n",
    "df_NYC['City'] = df_NYC['City'].apply(camel_case)"
   ]
  },
  {
   "cell_type": "code",
   "execution_count": 14,
   "metadata": {},
   "outputs": [
    {
     "data": {
      "image/png": "[encoded data removed]",
      "text/plain": [
       "<Figure size 864x360 with 1 Axes>"
      ]
     },
     "metadata": {
      "needs_background": "light"
     },
     "output_type": "display_data"
    }
   ],
   "source": [
    "monthly =  df_NYC.groupby('Created Month-Year').size().plot(figsize=(12,5), title='Complaints on a monthly basis')"
   ]
  },
  {
   "cell_type": "code",
   "execution_count": 37,
   "metadata": {},
   "outputs": [
    {
     "name": "stderr",
     "output_type": "stream",
     "text": [
      "C:\\Users\\user\\Anaconda3\\lib\\site-packages\\ipykernel_launcher.py:3: FutureWarning: Passing timedelta64-dtype data is deprecated, will raise a TypeError in a future version\n",
      "  This is separate from the ipykernel package so we can avoid doing imports until\n",
      "C:\\Users\\user\\Anaconda3\\lib\\site-packages\\ipykernel_launcher.py:3: SettingWithCopyWarning: \n",
      "A value is trying to be set on a copy of a slice from a DataFrame.\n",
      "Try using .loc[row_indexer,col_indexer] = value instead\n",
      "\n",
      "See the caveats in the documentation: http://pandas.pydata.org/pandas-docs/stable/user_guide/indexing.html#returning-a-view-versus-a-copy\n",
      "  This is separate from the ipykernel package so we can avoid doing imports until\n"
     ]
    },
    {
     "name": "stdout",
     "output_type": "stream",
     "text": [
      "Average Requesting Closing Time group by City and Complaint Types, Order by Complaint Type\n"
     ]
    },
    {
     "data": {
      "text/html": [
       "<div>\n",
       "<style scoped>\n",
       "    .dataframe tbody tr th:only-of-type {\n",
       "        vertical-align: middle;\n",
       "    }\n",
       "\n",
       "    .dataframe tbody tr th {\n",
       "        vertical-align: top;\n",
       "    }\n",
       "\n",
       "    .dataframe thead th {\n",
       "        text-align: right;\n",
       "    }\n",
       "</style>\n",
       "<table border=\"1\" class=\"dataframe\">\n",
       "  <thead>\n",
       "    <tr style=\"text-align: right;\">\n",
       "      <th></th>\n",
       "      <th>Complaint Type</th>\n",
       "      <th>City</th>\n",
       "      <th>Request_Closing_Time</th>\n",
       "      <th>Avg Request Closing Time</th>\n",
       "    </tr>\n",
       "  </thead>\n",
       "  <tbody>\n",
       "    <tr>\n",
       "      <td>0</td>\n",
       "      <td>Animal Abuse</td>\n",
       "      <td>Arverne</td>\n",
       "      <td>7.753053e+12</td>\n",
       "      <td>02:09:13</td>\n",
       "    </tr>\n",
       "    <tr>\n",
       "      <td>1</td>\n",
       "      <td>Animal Abuse</td>\n",
       "      <td>Astoria</td>\n",
       "      <td>1.800061e+13</td>\n",
       "      <td>05:00:00</td>\n",
       "    </tr>\n",
       "    <tr>\n",
       "      <td>2</td>\n",
       "      <td>Animal Abuse</td>\n",
       "      <td>Bayside</td>\n",
       "      <td>1.178824e+13</td>\n",
       "      <td>03:16:28</td>\n",
       "    </tr>\n",
       "    <tr>\n",
       "      <td>3</td>\n",
       "      <td>Animal Abuse</td>\n",
       "      <td>Bellerose</td>\n",
       "      <td>4.580886e+13</td>\n",
       "      <td>12:43:28</td>\n",
       "    </tr>\n",
       "    <tr>\n",
       "      <td>4</td>\n",
       "      <td>Animal Abuse</td>\n",
       "      <td>Breezy Point</td>\n",
       "      <td>9.408500e+12</td>\n",
       "      <td>02:36:48</td>\n",
       "    </tr>\n",
       "    <tr>\n",
       "      <td>...</td>\n",
       "      <td>...</td>\n",
       "      <td>...</td>\n",
       "      <td>...</td>\n",
       "      <td>...</td>\n",
       "    </tr>\n",
       "    <tr>\n",
       "      <td>741</td>\n",
       "      <td>Vending</td>\n",
       "      <td>Staten Island</td>\n",
       "      <td>1.537736e+13</td>\n",
       "      <td>04:16:17</td>\n",
       "    </tr>\n",
       "    <tr>\n",
       "      <td>742</td>\n",
       "      <td>Vending</td>\n",
       "      <td>Sunnyside</td>\n",
       "      <td>3.500433e+13</td>\n",
       "      <td>09:43:24</td>\n",
       "    </tr>\n",
       "    <tr>\n",
       "      <td>743</td>\n",
       "      <td>Vending</td>\n",
       "      <td>Whitestone</td>\n",
       "      <td>8.400000e+12</td>\n",
       "      <td>02:20:00</td>\n",
       "    </tr>\n",
       "    <tr>\n",
       "      <td>744</td>\n",
       "      <td>Vending</td>\n",
       "      <td>Woodhaven</td>\n",
       "      <td>1.023283e+13</td>\n",
       "      <td>02:50:32</td>\n",
       "    </tr>\n",
       "    <tr>\n",
       "      <td>745</td>\n",
       "      <td>Vending</td>\n",
       "      <td>Woodside</td>\n",
       "      <td>2.628753e+13</td>\n",
       "      <td>07:18:07</td>\n",
       "    </tr>\n",
       "  </tbody>\n",
       "</table>\n",
       "<p>746 rows × 4 columns</p>\n",
       "</div>"
      ],
      "text/plain": [
       "    Complaint Type           City  Request_Closing_Time  \\\n",
       "0     Animal Abuse        Arverne          7.753053e+12   \n",
       "1     Animal Abuse        Astoria          1.800061e+13   \n",
       "2     Animal Abuse        Bayside          1.178824e+13   \n",
       "3     Animal Abuse      Bellerose          4.580886e+13   \n",
       "4     Animal Abuse   Breezy Point          9.408500e+12   \n",
       "..             ...            ...                   ...   \n",
       "741        Vending  Staten Island          1.537736e+13   \n",
       "742        Vending      Sunnyside          3.500433e+13   \n",
       "743        Vending     Whitestone          8.400000e+12   \n",
       "744        Vending      Woodhaven          1.023283e+13   \n",
       "745        Vending       Woodside          2.628753e+13   \n",
       "\n",
       "    Avg Request Closing Time  \n",
       "0                   02:09:13  \n",
       "1                   05:00:00  \n",
       "2                   03:16:28  \n",
       "3                   12:43:28  \n",
       "4                   02:36:48  \n",
       "..                       ...  \n",
       "741                 04:16:17  \n",
       "742                 09:43:24  \n",
       "743                 02:20:00  \n",
       "744                 02:50:32  \n",
       "745                 07:18:07  \n",
       "\n",
       "[746 rows x 4 columns]"
      ]
     },
     "execution_count": 37,
     "metadata": {},
     "output_type": "execute_result"
    }
   ],
   "source": [
    "#Calculating Average Request Closing Time\n",
    "df_AvgRT=df_NYC[['City','Complaint Type','Request_Closing_Time']]\n",
    "df_AvgRT['Request_Closing_Time'] = pd.to_datetime(df_AvgRT['Request_Closing_Time']).values.astype(np.int64)\n",
    "df_AvgRT = df_AvgRT.groupby(['Complaint Type','City'], as_index=False)['Request_Closing_Time'].mean()\n",
    "df_AvgRT['Avg Request Closing Time'] = pd.to_datetime(df_AvgRT['Request_Closing_Time'], unit='ns').dt.strftime('%H:%M:%S')\n",
    "print('Average Requesting Closing Time group by City and Complaint Types, Order by Complaint Type')\n",
    "df_AvgRT"
   ]
  },
  {
   "cell_type": "code",
   "execution_count": 16,
   "metadata": {},
   "outputs": [
    {
     "data": {
      "text/html": [
       "<div>\n",
       "<style scoped>\n",
       "    .dataframe tbody tr th:only-of-type {\n",
       "        vertical-align: middle;\n",
       "    }\n",
       "\n",
       "    .dataframe tbody tr th {\n",
       "        vertical-align: top;\n",
       "    }\n",
       "\n",
       "    .dataframe thead th {\n",
       "        text-align: right;\n",
       "    }\n",
       "</style>\n",
       "<table border=\"1\" class=\"dataframe\">\n",
       "  <thead>\n",
       "    <tr style=\"text-align: right;\">\n",
       "      <th></th>\n",
       "      <th>Complaint Type</th>\n",
       "      <th>count</th>\n",
       "    </tr>\n",
       "  </thead>\n",
       "  <tbody>\n",
       "    <tr>\n",
       "      <td>0</td>\n",
       "      <td>Blocked Driveway</td>\n",
       "      <td>77044</td>\n",
       "    </tr>\n",
       "    <tr>\n",
       "      <td>1</td>\n",
       "      <td>Illegal Parking</td>\n",
       "      <td>75361</td>\n",
       "    </tr>\n",
       "    <tr>\n",
       "      <td>2</td>\n",
       "      <td>Noise - Street/Sidewalk</td>\n",
       "      <td>48612</td>\n",
       "    </tr>\n",
       "    <tr>\n",
       "      <td>3</td>\n",
       "      <td>Noise - Commercial</td>\n",
       "      <td>35577</td>\n",
       "    </tr>\n",
       "    <tr>\n",
       "      <td>4</td>\n",
       "      <td>Derelict Vehicle</td>\n",
       "      <td>17718</td>\n",
       "    </tr>\n",
       "  </tbody>\n",
       "</table>\n",
       "</div>"
      ],
      "text/plain": [
       "            Complaint Type  count\n",
       "0         Blocked Driveway  77044\n",
       "1          Illegal Parking  75361\n",
       "2  Noise - Street/Sidewalk  48612\n",
       "3       Noise - Commercial  35577\n",
       "4         Derelict Vehicle  17718"
      ]
     },
     "execution_count": 16,
     "metadata": {},
     "output_type": "execute_result"
    }
   ],
   "source": [
    "majorcomplints=df_NYC.groupby(\"Complaint Type\")\n",
    "\n",
    "sortedComplaintType = majorcomplints.size().sort_values(ascending = False)\n",
    "sortedComplaintType = sortedComplaintType.to_frame('count').reset_index()\n",
    "\n",
    "sortedComplaintType.head()"
   ]
  },
  {
   "cell_type": "code",
   "execution_count": 17,
   "metadata": {},
   "outputs": [
    {
     "data": {
      "image/png": "[encoded data removed]",
      "text/plain": [
       "<Figure size 360x360 with 1 Axes>"
      ]
     },
     "metadata": {},
     "output_type": "display_data"
    }
   ],
   "source": [
    "#Visualization on % of top 10 Complaints\n",
    "sortedComplaintType = sortedComplaintType.head(10)\n",
    "plt.figure(figsize=(5,5))\n",
    "plt.pie(sortedComplaintType['count'],labels=sortedComplaintType[\"Complaint Type\"], autopct=\"%1.1f%%\")\n",
    "plt.show()"
   ]
  },
  {
   "cell_type": "code",
   "execution_count": 23,
   "metadata": {},
   "outputs": [
    {
     "data": {
      "image/png": "[encoded data removed]",
      "text/plain": [
       "<Figure size 1080x432 with 1 Axes>"
      ]
     },
     "metadata": {
      "needs_background": "light"
     },
     "output_type": "display_data"
    }
   ],
   "source": [
    "# Visualization of number of complaint type\n",
    "df_NYC.groupby('Complaint Type').size().sort_values(ascending=False)[:20].plot(kind='bar', figsize=(15,6),\n",
    "                                                                          title='Bar graph of Complaint Type');"
   ]
  },
  {
   "cell_type": "code",
   "execution_count": 12,
   "metadata": {},
   "outputs": [
    {
     "data": {
      "text/html": [
       "<div>\n",
       "<style scoped>\n",
       "    .dataframe tbody tr th:only-of-type {\n",
       "        vertical-align: middle;\n",
       "    }\n",
       "\n",
       "    .dataframe tbody tr th {\n",
       "        vertical-align: top;\n",
       "    }\n",
       "\n",
       "    .dataframe thead th {\n",
       "        text-align: right;\n",
       "    }\n",
       "</style>\n",
       "<table border=\"1\" class=\"dataframe\">\n",
       "  <thead>\n",
       "    <tr style=\"text-align: right;\">\n",
       "      <th></th>\n",
       "      <th>Complaint Type</th>\n",
       "      <th>City</th>\n",
       "      <th>Total Requests</th>\n",
       "    </tr>\n",
       "  </thead>\n",
       "  <tbody>\n",
       "    <tr>\n",
       "      <td>0</td>\n",
       "      <td>Agency Issues</td>\n",
       "      <td>Unknown City</td>\n",
       "      <td>6</td>\n",
       "    </tr>\n",
       "    <tr>\n",
       "      <td>1</td>\n",
       "      <td>Animal Abuse</td>\n",
       "      <td>ARVERNE</td>\n",
       "      <td>38</td>\n",
       "    </tr>\n",
       "    <tr>\n",
       "      <td>2</td>\n",
       "      <td>Animal Abuse</td>\n",
       "      <td>ASTORIA</td>\n",
       "      <td>125</td>\n",
       "    </tr>\n",
       "    <tr>\n",
       "      <td>3</td>\n",
       "      <td>Animal Abuse</td>\n",
       "      <td>BAYSIDE</td>\n",
       "      <td>37</td>\n",
       "    </tr>\n",
       "    <tr>\n",
       "      <td>4</td>\n",
       "      <td>Animal Abuse</td>\n",
       "      <td>BELLEROSE</td>\n",
       "      <td>7</td>\n",
       "    </tr>\n",
       "    <tr>\n",
       "      <td>...</td>\n",
       "      <td>...</td>\n",
       "      <td>...</td>\n",
       "      <td>...</td>\n",
       "    </tr>\n",
       "    <tr>\n",
       "      <td>777</td>\n",
       "      <td>Vending</td>\n",
       "      <td>SUNNYSIDE</td>\n",
       "      <td>15</td>\n",
       "    </tr>\n",
       "    <tr>\n",
       "      <td>778</td>\n",
       "      <td>Vending</td>\n",
       "      <td>Unknown City</td>\n",
       "      <td>7</td>\n",
       "    </tr>\n",
       "    <tr>\n",
       "      <td>779</td>\n",
       "      <td>Vending</td>\n",
       "      <td>WHITESTONE</td>\n",
       "      <td>1</td>\n",
       "    </tr>\n",
       "    <tr>\n",
       "      <td>780</td>\n",
       "      <td>Vending</td>\n",
       "      <td>WOODHAVEN</td>\n",
       "      <td>6</td>\n",
       "    </tr>\n",
       "    <tr>\n",
       "      <td>781</td>\n",
       "      <td>Vending</td>\n",
       "      <td>WOODSIDE</td>\n",
       "      <td>15</td>\n",
       "    </tr>\n",
       "  </tbody>\n",
       "</table>\n",
       "<p>782 rows × 3 columns</p>\n",
       "</div>"
      ],
      "text/plain": [
       "    Complaint Type          City  Total Requests\n",
       "0    Agency Issues  Unknown City               6\n",
       "1     Animal Abuse       ARVERNE              38\n",
       "2     Animal Abuse       ASTORIA             125\n",
       "3     Animal Abuse       BAYSIDE              37\n",
       "4     Animal Abuse     BELLEROSE               7\n",
       "..             ...           ...             ...\n",
       "777        Vending     SUNNYSIDE              15\n",
       "778        Vending  Unknown City               7\n",
       "779        Vending    WHITESTONE               1\n",
       "780        Vending     WOODHAVEN               6\n",
       "781        Vending      WOODSIDE              15\n",
       "\n",
       "[782 rows x 3 columns]"
      ]
     },
     "execution_count": 12,
     "metadata": {},
     "output_type": "execute_result"
    }
   ],
   "source": [
    "complaintTypecity = pd.DataFrame({'Total Requests':df_NYC.groupby(['Complaint Type','City']).size()}).reset_index()\n",
    "complaintTypecity"
   ]
  },
  {
   "cell_type": "code",
   "execution_count": 13,
   "metadata": {},
   "outputs": [
    {
     "data": {
      "text/plain": [
       "City\n",
       "BROOKLYN         98307\n",
       "NEW YORK         65994\n",
       "BRONX            40702\n",
       "STATEN ISLAND    12343\n",
       "JAMAICA           7296\n",
       "ASTORIA           6330\n",
       "FLUSHING          5971\n",
       "RIDGEWOOD         5163\n",
       "CORONA            4295\n",
       "WOODSIDE          3544\n",
       "dtype: int64"
      ]
     },
     "execution_count": 13,
     "metadata": {},
     "output_type": "execute_result"
    }
   ],
   "source": [
    "RequestPerCity=df_NYC.groupby('City').size().sort_values(ascending=False)\n",
    "RequestPerCity.head(10)"
   ]
  },
  {
   "cell_type": "code",
   "execution_count": 15,
   "metadata": {},
   "outputs": [
    {
     "data": {
      "text/plain": [
       "<matplotlib.axes._subplots.AxesSubplot at 0x1b2186bf8c8>"
      ]
     },
     "execution_count": 15,
     "metadata": {},
     "output_type": "execute_result"
    },
    {
     "data": {
      "image/png": "[encoded data removed]",
      "text/plain": [
       "<Figure size 1080x360 with 1 Axes>"
      ]
     },
     "metadata": {
      "needs_background": "light"
     },
     "output_type": "display_data"
    }
   ],
   "source": [
    "RequestPerCity.plot(kind='bar',figsize=(15,5), title='Complaints by Cities')"
   ]
  },
  {
   "cell_type": "code",
   "execution_count": 22,
   "metadata": {},
   "outputs": [
    {
     "data": {
      "image/png": "[encoded data removed]",
      "text/plain": [
       "<Figure size 1080x432 with 1 Axes>"
      ]
     },
     "metadata": {
      "needs_background": "light"
     },
     "output_type": "display_data"
    }
   ],
   "source": [
    "# Visualization of number of complaint type\n",
    "df_NYC.groupby('Complaint Type').size().sort_values(ascending=False)[:20].plot(kind='bar', figsize=(15,6),\n",
    "                                                                          title='Bar graph of Complaint Type');"
   ]
  },
  {
   "cell_type": "code",
   "execution_count": 25,
   "metadata": {},
   "outputs": [
    {
     "data": {
      "text/plain": [
       "[Text(0, 0, 'Street/Sidewalk'),\n",
       " Text(0, 0, 'Store/Commercial'),\n",
       " Text(0, 0, 'Club/Bar/Restaurant'),\n",
       " Text(0, 0, 'Residential Building/House'),\n",
       " Text(0, 0, 'Park/Playground')]"
      ]
     },
     "execution_count": 25,
     "metadata": {},
     "output_type": "execute_result"
    },
    {
     "data": {
      "image/png": "[encoded data removed]",
      "text/plain": [
       "<Figure size 432x288 with 1 Axes>"
      ]
     },
     "metadata": {
      "needs_background": "light"
     },
     "output_type": "display_data"
    }
   ],
   "source": [
    "#Visualization of Top 5 Location wise Complaints\n",
    "Type=df_NYC['Location Type'].value_counts().nlargest(5)\n",
    "plot4=sns.barplot(x=Type.index,y=Type.values)\n",
    "plot4.set_xticklabels(plot4.get_xticklabels(),rotation=90)"
   ]
  },
  {
   "cell_type": "code",
   "execution_count": 30,
   "metadata": {},
   "outputs": [
    {
     "data": {
      "text/plain": [
       "City             Complaint Type           Descriptor                 \n",
       "Brooklyn         Blocked Driveway         No Access                      21422\n",
       "New York         Noise - Street/Sidewalk  Loud Music/Party               13674\n",
       "                 Noise - Commercial       Loud Music/Party               10659\n",
       "Bronx            Blocked Driveway         No Access                       9884\n",
       "Brooklyn         Noise - Street/Sidewalk  Loud Music/Party                8587\n",
       "                                                                         ...  \n",
       "Far Rockaway     Traffic                  Chronic Stoplight Violation        1\n",
       "Richmond Hill    Traffic                  Truck Route Violation              1\n",
       "                                          Chronic Stoplight Violation        1\n",
       "                                          Chronic Speeding                   1\n",
       "Cambria Heights  Animal Abuse             No Shelter                         1\n",
       "Length: 1737, dtype: int64"
      ]
     },
     "execution_count": 30,
     "metadata": {},
     "output_type": "execute_result"
    }
   ],
   "source": [
    "#Table of Complaints count by City,Complaint Type and Desriptor\n",
    "df_NYC.groupby([\"City\",\"Complaint Type\",\"Descriptor\"]).size().sort_values(ascending=False)"
   ]
  },
  {
   "cell_type": "markdown",
   "metadata": {},
   "source": [
    "### Statistical Testing"
   ]
  },
  {
   "cell_type": "markdown",
   "metadata": {},
   "source": [
    "#### Are the type of complaint or service requested and location related?"
   ]
  },
  {
   "cell_type": "code",
   "execution_count": 31,
   "metadata": {},
   "outputs": [],
   "source": [
    "#Creating a new Dataframe df2 from df_NYC\n",
    "df2=df_NYC[['City','Complaint Type']]"
   ]
  },
  {
   "cell_type": "code",
   "execution_count": 32,
   "metadata": {},
   "outputs": [
    {
     "data": {
      "text/html": [
       "<div>\n",
       "<style scoped>\n",
       "    .dataframe tbody tr th:only-of-type {\n",
       "        vertical-align: middle;\n",
       "    }\n",
       "\n",
       "    .dataframe tbody tr th {\n",
       "        vertical-align: top;\n",
       "    }\n",
       "\n",
       "    .dataframe thead th {\n",
       "        text-align: right;\n",
       "    }\n",
       "</style>\n",
       "<table border=\"1\" class=\"dataframe\">\n",
       "  <thead>\n",
       "    <tr style=\"text-align: right;\">\n",
       "      <th>Complaint Type</th>\n",
       "      <th>Animal Abuse</th>\n",
       "      <th>Animal in a Park</th>\n",
       "      <th>Bike/Roller/Skate Chronic</th>\n",
       "      <th>Blocked Driveway</th>\n",
       "      <th>Derelict Vehicle</th>\n",
       "      <th>Disorderly Youth</th>\n",
       "      <th>Drinking</th>\n",
       "      <th>Graffiti</th>\n",
       "      <th>Homeless Encampment</th>\n",
       "      <th>Illegal Fireworks</th>\n",
       "      <th>...</th>\n",
       "      <th>Noise - House of Worship</th>\n",
       "      <th>Noise - Park</th>\n",
       "      <th>Noise - Street/Sidewalk</th>\n",
       "      <th>Noise - Vehicle</th>\n",
       "      <th>Panhandling</th>\n",
       "      <th>Posting Advertisement</th>\n",
       "      <th>Squeegee</th>\n",
       "      <th>Traffic</th>\n",
       "      <th>Urinating in Public</th>\n",
       "      <th>Vending</th>\n",
       "    </tr>\n",
       "    <tr>\n",
       "      <th>City</th>\n",
       "      <th></th>\n",
       "      <th></th>\n",
       "      <th></th>\n",
       "      <th></th>\n",
       "      <th></th>\n",
       "      <th></th>\n",
       "      <th></th>\n",
       "      <th></th>\n",
       "      <th></th>\n",
       "      <th></th>\n",
       "      <th></th>\n",
       "      <th></th>\n",
       "      <th></th>\n",
       "      <th></th>\n",
       "      <th></th>\n",
       "      <th></th>\n",
       "      <th></th>\n",
       "      <th></th>\n",
       "      <th></th>\n",
       "      <th></th>\n",
       "      <th></th>\n",
       "    </tr>\n",
       "  </thead>\n",
       "  <tbody>\n",
       "    <tr>\n",
       "      <td>Arverne</td>\n",
       "      <td>38</td>\n",
       "      <td>0</td>\n",
       "      <td>0</td>\n",
       "      <td>35</td>\n",
       "      <td>27</td>\n",
       "      <td>2</td>\n",
       "      <td>1</td>\n",
       "      <td>1</td>\n",
       "      <td>4</td>\n",
       "      <td>0</td>\n",
       "      <td>...</td>\n",
       "      <td>11</td>\n",
       "      <td>2</td>\n",
       "      <td>29</td>\n",
       "      <td>7</td>\n",
       "      <td>1</td>\n",
       "      <td>0</td>\n",
       "      <td>0</td>\n",
       "      <td>0</td>\n",
       "      <td>1</td>\n",
       "      <td>1</td>\n",
       "    </tr>\n",
       "    <tr>\n",
       "      <td>Astoria</td>\n",
       "      <td>125</td>\n",
       "      <td>0</td>\n",
       "      <td>15</td>\n",
       "      <td>2734</td>\n",
       "      <td>363</td>\n",
       "      <td>3</td>\n",
       "      <td>35</td>\n",
       "      <td>4</td>\n",
       "      <td>32</td>\n",
       "      <td>4</td>\n",
       "      <td>...</td>\n",
       "      <td>19</td>\n",
       "      <td>61</td>\n",
       "      <td>500</td>\n",
       "      <td>204</td>\n",
       "      <td>1</td>\n",
       "      <td>1</td>\n",
       "      <td>0</td>\n",
       "      <td>47</td>\n",
       "      <td>9</td>\n",
       "      <td>54</td>\n",
       "    </tr>\n",
       "    <tr>\n",
       "      <td>Bayside</td>\n",
       "      <td>37</td>\n",
       "      <td>0</td>\n",
       "      <td>0</td>\n",
       "      <td>377</td>\n",
       "      <td>198</td>\n",
       "      <td>1</td>\n",
       "      <td>1</td>\n",
       "      <td>3</td>\n",
       "      <td>2</td>\n",
       "      <td>0</td>\n",
       "      <td>...</td>\n",
       "      <td>2</td>\n",
       "      <td>4</td>\n",
       "      <td>15</td>\n",
       "      <td>16</td>\n",
       "      <td>0</td>\n",
       "      <td>0</td>\n",
       "      <td>0</td>\n",
       "      <td>9</td>\n",
       "      <td>0</td>\n",
       "      <td>2</td>\n",
       "    </tr>\n",
       "    <tr>\n",
       "      <td>Bellerose</td>\n",
       "      <td>7</td>\n",
       "      <td>0</td>\n",
       "      <td>1</td>\n",
       "      <td>95</td>\n",
       "      <td>89</td>\n",
       "      <td>2</td>\n",
       "      <td>1</td>\n",
       "      <td>0</td>\n",
       "      <td>1</td>\n",
       "      <td>1</td>\n",
       "      <td>...</td>\n",
       "      <td>1</td>\n",
       "      <td>1</td>\n",
       "      <td>13</td>\n",
       "      <td>10</td>\n",
       "      <td>1</td>\n",
       "      <td>1</td>\n",
       "      <td>0</td>\n",
       "      <td>7</td>\n",
       "      <td>1</td>\n",
       "      <td>0</td>\n",
       "    </tr>\n",
       "    <tr>\n",
       "      <td>Breezy Point</td>\n",
       "      <td>2</td>\n",
       "      <td>0</td>\n",
       "      <td>0</td>\n",
       "      <td>3</td>\n",
       "      <td>3</td>\n",
       "      <td>0</td>\n",
       "      <td>1</td>\n",
       "      <td>0</td>\n",
       "      <td>0</td>\n",
       "      <td>0</td>\n",
       "      <td>...</td>\n",
       "      <td>0</td>\n",
       "      <td>0</td>\n",
       "      <td>1</td>\n",
       "      <td>1</td>\n",
       "      <td>0</td>\n",
       "      <td>0</td>\n",
       "      <td>0</td>\n",
       "      <td>0</td>\n",
       "      <td>0</td>\n",
       "      <td>0</td>\n",
       "    </tr>\n",
       "  </tbody>\n",
       "</table>\n",
       "<p>5 rows × 22 columns</p>\n",
       "</div>"
      ],
      "text/plain": [
       "Complaint Type  Animal Abuse  Animal in a Park  Bike/Roller/Skate Chronic  \\\n",
       "City                                                                        \n",
       "Arverne                   38                 0                          0   \n",
       "Astoria                  125                 0                         15   \n",
       "Bayside                   37                 0                          0   \n",
       "Bellerose                  7                 0                          1   \n",
       "Breezy Point               2                 0                          0   \n",
       "\n",
       "Complaint Type  Blocked Driveway  Derelict Vehicle  Disorderly Youth  \\\n",
       "City                                                                   \n",
       "Arverne                       35                27                 2   \n",
       "Astoria                     2734               363                 3   \n",
       "Bayside                      377               198                 1   \n",
       "Bellerose                     95                89                 2   \n",
       "Breezy Point                   3                 3                 0   \n",
       "\n",
       "Complaint Type  Drinking  Graffiti  Homeless Encampment  Illegal Fireworks  \\\n",
       "City                                                                         \n",
       "Arverne                1         1                    4                  0   \n",
       "Astoria               35         4                   32                  4   \n",
       "Bayside                1         3                    2                  0   \n",
       "Bellerose              1         0                    1                  1   \n",
       "Breezy Point           1         0                    0                  0   \n",
       "\n",
       "Complaint Type  ...  Noise - House of Worship  Noise - Park  \\\n",
       "City            ...                                           \n",
       "Arverne         ...                        11             2   \n",
       "Astoria         ...                        19            61   \n",
       "Bayside         ...                         2             4   \n",
       "Bellerose       ...                         1             1   \n",
       "Breezy Point    ...                         0             0   \n",
       "\n",
       "Complaint Type  Noise - Street/Sidewalk  Noise - Vehicle  Panhandling  \\\n",
       "City                                                                    \n",
       "Arverne                              29                7            1   \n",
       "Astoria                             500              204            1   \n",
       "Bayside                              15               16            0   \n",
       "Bellerose                            13               10            1   \n",
       "Breezy Point                          1                1            0   \n",
       "\n",
       "Complaint Type  Posting Advertisement  Squeegee  Traffic  Urinating in Public  \\\n",
       "City                                                                            \n",
       "Arverne                             0         0        0                    1   \n",
       "Astoria                             1         0       47                    9   \n",
       "Bayside                             0         0        9                    0   \n",
       "Bellerose                           1         0        7                    1   \n",
       "Breezy Point                        0         0        0                    0   \n",
       "\n",
       "Complaint Type  Vending  \n",
       "City                     \n",
       "Arverne               1  \n",
       "Astoria              54  \n",
       "Bayside               2  \n",
       "Bellerose             0  \n",
       "Breezy Point          0  \n",
       "\n",
       "[5 rows x 22 columns]"
      ]
     },
     "execution_count": 32,
     "metadata": {},
     "output_type": "execute_result"
    }
   ],
   "source": [
    "contingency_table=pd.crosstab(df2[\"City\"],df2[\"Complaint Type\"])\n",
    "contingency_table.head()"
   ]
  },
  {
   "cell_type": "code",
   "execution_count": 63,
   "metadata": {},
   "outputs": [
    {
     "name": "stdout",
     "output_type": "stream",
     "text": [
      "chi-square statistic:- 46.00000000000003\n",
      "critical_value: 3.841458820694124\n",
      "p-value: 1.182531850218993e-11\n",
      "Significance level:  0.05\n",
      "Degree of Freedom:  1\n",
      "chi-square statistic: 46.00000000000003\n",
      "critical_value: 3.841458820694124\n",
      "p-value: 1.182531850218993e-11\n",
      "Reject H0,There is a relationship between 2 categorical variables\n",
      "Reject H0,There is a relationship between 2 categorical variables\n"
     ]
    }
   ],
   "source": [
    "## Applying Chi-squre statistical testing to get p-value and deciding where Complaint Types and Locations/City related to each other\n",
    "\n",
    "#Observed Values\n",
    "Observed_Values = contingency_table.values \n",
    "Observed_Values\n",
    "#Expected Values\n",
    "b=stats.chi2_contingency(contingency_table)\n",
    "Expected_Values = b[3]\n",
    "\n",
    "alpha = 0.05\n",
    "no_of_rows=len(contingency_table.iloc[0:2,0])\n",
    "no_of_columns=len(contingency_table.iloc[0,0:2])\n",
    "ddof=(no_of_rows-1)*(no_of_columns-1)\n",
    "\n",
    "chi_square=sum([(o-e)**2./e for o,e in zip(Observed_Values,Expected_Values)])\n",
    "chi_square_statistic=chi_square[0]+chi_square[1]\n",
    "print(\"chi-square statistic:-\",chi_square_statistic)\n",
    "\n",
    "critical_value=chi2.ppf(q=1-alpha,df=ddof)\n",
    "print('critical_value:',critical_value)\n",
    "\n",
    "#p-value\n",
    "p_value=1-chi2.cdf(x=chi_square_statistic,df=ddof)\n",
    "print('p-value:',p_value)\n",
    "print('Significance level: ',alpha)\n",
    "print('Degree of Freedom: ',ddof)\n",
    "print('chi-square statistic:',chi_square_statistic)\n",
    "print('critical_value:',critical_value)\n",
    "print('p-value:',p_value)\n",
    "if chi_square_statistic>=critical_value:\n",
    "    print(\"Reject H0,There is a relationship between 2 categorical variables\")\n",
    "else:\n",
    "    print(\"Retain H0,There is no relationship between 2 categorical variables\")\n",
    "    \n",
    "if p_value<=alpha:\n",
    "    print(\"Reject H0,There is a relationship between 2 categorical variables\")\n",
    "else:\n",
    "    print(\"Retain H0,There is no relationship between 2 categorical variables\")"
   ]
  },
  {
   "cell_type": "markdown",
   "metadata": {},
   "source": [
    "##### As p-value is less than alpha value i.e. 0.05 , hence there we can say Complaint Types and Cities are related"
   ]
  }
 ],
 "metadata": {
  "kernelspec": {
   "display_name": "Python 3",
   "language": "python",
   "name": "python3"
  },
  "language_info": {
   "codemirror_mode": {
    "name": "ipython",
    "version": 3
   },
   "file_extension": ".py",
   "mimetype": "text/x-python",
   "name": "python",
   "nbconvert_exporter": "python",
   "pygments_lexer": "ipython3",
   "version": "3.7.4"
  }
 },
 "nbformat": 4,
 "nbformat_minor": 2
}
